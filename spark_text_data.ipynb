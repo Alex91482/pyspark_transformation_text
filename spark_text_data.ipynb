{
 "cells": [
  {
   "cell_type": "code",
   "execution_count": 5,
   "id": "6b4ab89d-b8d5-4060-ae2e-630046c46ef1",
   "metadata": {},
   "outputs": [
    {
     "name": "stdout",
     "output_type": "stream",
     "text": [
      "E:/Data/Sberbank_Translations/43/translated_For translation 2.txt\n",
      "Файл существует\n"
     ]
    }
   ],
   "source": [
    "import os\n",
    " \n",
    "text_data_directory = \"E:/Data/Sb_Translations\"\n",
    "sample_text = text_data_directory + \"/43/translated_For translation 2.txt\"\n",
    "\n",
    "print(sample_text)\n",
    "if os.path.isfile(sample_text):\n",
    "    print(\"Файл существует\")\n",
    "else:\n",
    "    print(\"Файл не существует\")"
   ]
  },
  {
   "cell_type": "code",
   "execution_count": 4,
   "id": "2714c061-7355-48ad-8784-21932757aac3",
   "metadata": {},
   "outputs": [
    {
     "name": "stdout",
     "output_type": "stream",
     "text": [
      "+-----------+\n",
      "|      value|\n",
      "+-----------+\n",
      "| Форма 2.2.|\n",
      "|Опыт работы|\n",
      "+-----------+\n",
      "only showing top 2 rows\n",
      "\n",
      "+-----------+\n",
      "|      value|\n",
      "+-----------+\n",
      "| форма 2.2.|\n",
      "|опыт работы|\n",
      "+-----------+\n",
      "only showing top 2 rows\n",
      "\n",
      "+--------------------+--------------------+\n",
      "|               value|              tokens|\n",
      "+--------------------+--------------------+\n",
      "|          форма 2.2.|       [форма, 2.2.]|\n",
      "|         опыт работы|      [опыт, работы]|\n",
      "|информация о клие...|[информация, о, к...|\n",
      "|информация о реал...|[информация, о, р...|\n",
      "|                  пп|                [пп]|\n",
      "+--------------------+--------------------+\n",
      "only showing top 5 rows\n",
      "\n"
     ]
    }
   ],
   "source": [
    "import pyspark\n",
    "import pyspark.sql.functions as f\n",
    "\n",
    "from pyspark.sql.functions import udf \n",
    "from pyspark.sql.types import StringType\n",
    "from pyspark.sql import SparkSession\n",
    "from pyspark.ml.feature import RegexTokenizer\n",
    "\n",
    "pattern_punct = '[!@\"“’№«»#$%&\\'()*+,—/:;<=>?^_`{|}~\\[\\]]'\n",
    "pattern_url = 'http[s]?://\\S+|www\\.\\S+'\n",
    "pattern_tags = '<.*?>'\n",
    "\n",
    "def text_to_low(text) -> str:\n",
    "    return str(text).lower()\n",
    "\n",
    "text_data_directory = \"E:/Data/Sb_Translations\"\n",
    "sample_text = text_data_directory + \"/43/translated_For translation 2.txt\"\n",
    "\n",
    "spark = SparkSession.builder \\\n",
    "                        .master(\"local[*]\") \\\n",
    "                        .appName(\"text data\") \\\n",
    "                        .getOrCreate()\n",
    "df = spark.read.format('text').load('file:///' + sample_text)\n",
    "\n",
    "df.show(2)\n",
    "\n",
    "# нужно удалить все местоимения\n",
    "# перевести все в нижний регистр\n",
    "# удалить всевозможные символы знаки припенания, эмодзи, ссылки\n",
    "\n",
    "text_to_lower = udf(text_to_low, StringType())\n",
    "\n",
    "df = df.withColumn('value1', text_to_lower('value'))\n",
    "df = df.drop('value').withColumnRenamed('value1', 'value')\n",
    "df = df.withColumn('value', f.regexp_replace('value', pattern_punct, ''))\n",
    "df = df.withColumn('value', f.regexp_replace('value', pattern_url, ''))\n",
    "df = df.withColumn('value', f.regexp_replace('value', pattern_tags, ''))\n",
    "\n",
    "df.show(2)\n",
    "\n",
    "# токинезация\n",
    "regexTokenizer = RegexTokenizer(inputCol=\"value\", outputCol=\"tokens\", pattern=r\"\\s+\")\n",
    "df = regexTokenizer.transform(df)\n",
    "\n",
    "df.show(5)\n"
   ]
  },
  {
   "cell_type": "code",
   "execution_count": null,
   "id": "1096a262-30b4-4153-90bf-0a38e848d27b",
   "metadata": {},
   "outputs": [],
   "source": []
  }
 ],
 "metadata": {
  "kernelspec": {
   "display_name": "Python 3 (ipykernel)",
   "language": "python",
   "name": "python3"
  },
  "language_info": {
   "codemirror_mode": {
    "name": "ipython",
    "version": 3
   },
   "file_extension": ".py",
   "mimetype": "text/x-python",
   "name": "python",
   "nbconvert_exporter": "python",
   "pygments_lexer": "ipython3",
   "version": "3.10.11"
  }
 },
 "nbformat": 4,
 "nbformat_minor": 5
}
